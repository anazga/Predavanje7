{
 "cells": [
  {
   "cell_type": "markdown",
   "metadata": {},
   "source": [
    "# Numerička matematika - 7. predavanje"
   ]
  },
  {
   "cell_type": "markdown",
   "metadata": {},
   "source": [
    "## 1. Ponavljanje s prethodnog predavanja"
   ]
  },
  {
   "cell_type": "markdown",
   "metadata": {},
   "source": [
    "\n",
    "\n",
    "\n",
    "**Zadatak1**  Podaci su zadani tablicom\n",
    "\n",
    "| x | 1 | 3 | 9 | 16 |\n",
    "|---|---|---|---|----|\n",
    "| y | 1 | 2 | 3 | 4 |\n",
    "\n",
    "predstavljaju vvrijednosti neke fizikalne veličine koja je opisana funkcijom \n",
    "$f(x)=\\sqrt{x}$\n",
    "\n",
    "\n",
    "(a) Odredite Lagrangeov interpolacijski polinom\n",
    "\n",
    "(b)Izračunajte apsolutnu pogrešku $|p(x)-f(x)|$ u točki $x=3.$\n",
    "\n",
    "(c) Bez računanja Lagrangeovog interpolacijskog polinoma ocijenite pogrešku interpolacije u točki $x=3.$\n",
    "\n",
    "*Rješenje.* \n",
    "(a)\n",
    "\n",
    "Elementi Lagrangeove baze su redom\n",
    "$$\\varphi_0(x)=\\frac{(x-4)(x-9)(x-16)}{(-3)\\cdot(-8)\\cdot(-15)}$$\n",
    "$$\\varphi_1(x)=\\frac{(x-1)(x-9)(x-16)}{4\\cdot (-5)\\cdot (-12)}$$\n",
    "$$\\varphi_2(x)=\\frac{(x-1)(x-4)(x-16)}{8\\cdot 5\\cdot (-7)}$$\n",
    "$$\\varphi_3(x)=\\frac{(x-1)(x-4)(x-9)}{15\\cdot 12\\cdot 7}$$\n",
    "\n",
    "sada dobivamo\n",
    "$$p(x)=\\frac{(x-4)(x-9)(x-16)}{360}+\\frac{(x-1)(x-9)(x-16)}{90}-\\frac{3}{280}(x-1)(x-4)(x-16)+\\frac{(x-1)(x-4)(x-9)}{315}$$\n",
    "\n",
    "(b) $$f(3)=\\sqrt{3}\\approx 1.7321$$\n",
    "$$p(3)=račun\\approx 1.7095$$\n",
    "Apsolutna pogreška\n",
    "$$|p(3)-f(3)|\\approx 0.0225$$\n",
    "\n",
    "(c) Imamo\n",
    "$$f(x)-p(x)=\\frac{f^{(iv)}(\\zeta_x)}{4!}w_4(x)$$\n",
    "\n",
    "Odavde imamo\n",
    "$$\\left|f(3)-p(3)\\right|\\leq \\frac{|w_4(3)|}{4!}\\max_{x\\in[1,16]}|f^{(iv)}(x)|$$\n",
    "Sada računamo\n",
    "$$|w_4(3)|=|(3-1)(3-4)(3-9)(3-16)|=156$$\n",
    "\n",
    "Korištenjem znanja stečenog na Matematici 1, slijedi da je \n",
    "$$\\max_{x\\in[1,16]}|f^{(iv)}(x)|=|f^{(iv)}(1)|=\\frac{15}{16}.$$\n",
    "Time dobivamo ocjenu\n",
    "\n",
    "$$\\left|f(3)-p(3)\\right|\\leq \\frac{156}{4!}\\cdot \\frac{15}{16}=6.0938.$$\n",
    "\n",
    "**Zadatak2(DZ)** Funkciju $f(x)=\\sin(\\pi x)$na intervalu $[0,1]$ aproksimiramo polinomom koji prolazi točkama\n",
    "\n",
    "| x | 0 | 0.25 | 0.5 | 0.75 |1|\n",
    "|---|---|---|---|----|----|\n",
    "| f(x)| 0 | 0.707107 | 1 | 0.707107 |0|\n",
    "\n",
    "Ocijenite pogrešku interpolacije na intervalu $[0,1].$\n",
    "\n",
    "*Rješenje(Uputa)* \n",
    "$$\\|f-p_n\\|_{\\infty}\\leq\\frac{\\|f^(n+1)\\|_{\\infty}}{(n+1)!}\\cdot \\|w_{n+1}\\|_{\\infty}$$\n",
    "\n",
    "\n"
   ]
  },
  {
   "cell_type": "markdown",
   "metadata": {},
   "source": [
    "## 2. Numerička integracija\n",
    "\n",
    "U prvom dijelu predavanja bavimo se formulama numeričke integracije do kojih dolazimo koristeći polinomijalnu interpolaciju. Uvodimo Newton-Cotesove formule te izvodimo jednostavnu pravokutnu, trapeznu i Simpsonovu formulu."
   ]
  },
  {
   "cell_type": "code",
   "execution_count": 1,
   "metadata": {
    "scrolled": false
   },
   "outputs": [
    {
     "data": {
      "text/html": [
       "\n",
       "        <iframe\n",
       "            width=\"400\"\n",
       "            height=\"300\"\n",
       "            src=\"https://www.youtube.com/embed/-zMchwKTEg8 \"\n",
       "            frameborder=\"0\"\n",
       "            allowfullscreen\n",
       "        ></iframe>\n",
       "        "
      ],
      "text/plain": [
       "<IPython.lib.display.YouTubeVideo at 0x18550b77fd0>"
      ]
     },
     "metadata": {},
     "output_type": "display_data"
    }
   ],
   "source": [
    "from IPython.lib.display import YouTubeVideo\n",
    "vid = YouTubeVideo(\"-zMchwKTEg8 \")\n",
    "display(vid)"
   ]
  },
  {
   "cell_type": "markdown",
   "metadata": {},
   "source": [
    "## 2.1. Ocjena pogreške formula numeričke integracije\n"
   ]
  },
  {
   "cell_type": "markdown",
   "metadata": {},
   "source": [
    "U ovom dijelu predavanja bavimo se ocjenom apsolutne pogreške koju dobivamo prilikom već uvedenih Newton-cotesovih formula numeričke integracije."
   ]
  },
  {
   "cell_type": "code",
   "execution_count": 2,
   "metadata": {},
   "outputs": [
    {
     "data": {
      "image/jpeg": "[encoded data removed]",
      "text/html": [
       "\n",
       "        <iframe\n",
       "            width=\"400\"\n",
       "            height=\"300\"\n",
       "            src=\"https://www.youtube.com/embed/keitGroztVY\"\n",
       "            frameborder=\"0\"\n",
       "            allowfullscreen\n",
       "        ></iframe>\n",
       "        "
      ],
      "text/plain": [
       "<IPython.lib.display.YouTubeVideo at 0x1854e1ade10>"
      ]
     },
     "metadata": {},
     "output_type": "display_data"
    }
   ],
   "source": [
    "from IPython.lib.display import YouTubeVideo\n",
    "vid = YouTubeVideo(\"keitGroztVY\") \n",
    "display(vid)"
   ]
  },
  {
   "cell_type": "markdown",
   "metadata": {},
   "source": [
    "## 2.2. Kompozitne formule\n",
    "U ovom dijelu predavanja, primjenom već izvedenih jednostavnih formula dolazimo do složenijih ali primijenjivijih kompozitnih formula numeričke integracije. Često će se u literaturi naći naziv i produljene formule."
   ]
  },
  {
   "cell_type": "code",
   "execution_count": 3,
   "metadata": {},
   "outputs": [
    {
     "data": {
      "text/html": [
       "\n",
       "        <iframe\n",
       "            width=\"400\"\n",
       "            height=\"300\"\n",
       "            src=\"https://www.youtube.com/embed/64Mk7cWWUBw \"\n",
       "            frameborder=\"0\"\n",
       "            allowfullscreen\n",
       "        ></iframe>\n",
       "        "
      ],
      "text/plain": [
       "<IPython.lib.display.YouTubeVideo at 0x18550b91048>"
      ]
     },
     "metadata": {},
     "output_type": "display_data"
    }
   ],
   "source": [
    "from IPython.lib.display import YouTubeVideo\n",
    "vid = YouTubeVideo(\"64Mk7cWWUBw \") \n",
    "display(vid)"
   ]
  },
  {
   "cell_type": "code",
   "execution_count": null,
   "metadata": {},
   "outputs": [],
   "source": []
  }
 ],
 "metadata": {
  "kernelspec": {
   "display_name": "Python 3",
   "language": "python",
   "name": "python3"
  },
  "language_info": {
   "codemirror_mode": {
    "name": "ipython",
    "version": 3
   },
   "file_extension": ".py",
   "mimetype": "text/x-python",
   "name": "python",
   "nbconvert_exporter": "python",
   "pygments_lexer": "ipython3",
   "version": "3.6.4"
  }
 },
 "nbformat": 4,
 "nbformat_minor": 2
}
