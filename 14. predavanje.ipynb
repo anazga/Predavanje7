{
 "cells": [
  {
   "cell_type": "markdown",
   "metadata": {},
   "source": [
    "# Neki dokazi koje smo preskočili\n",
    "\n"
   ]
  },
  {
   "cell_type": "markdown",
   "metadata": {},
   "source": [
    "U sljedećem videu prikazani su dokazi koje smo preskočili i koje ste mogli pročitati u skripti (osim posljednjega)."
   ]
  },
  {
   "cell_type": "code",
   "execution_count": 4,
   "metadata": {
    "scrolled": true
   },
   "outputs": [
    {
     "data": {
      "text/html": [
       "\n",
       "        <iframe\n",
       "            width=\"400\"\n",
       "            height=\"300\"\n",
       "            src=\"https://www.youtube.com/embed/cGAd0BWlZJw\"\n",
       "            frameborder=\"0\"\n",
       "            allowfullscreen\n",
       "        ></iframe>\n",
       "        "
      ],
      "text/plain": [
       "<IPython.lib.display.YouTubeVideo at 0x2d277787a58>"
      ]
     },
     "metadata": {},
     "output_type": "display_data"
    }
   ],
   "source": [
    "from IPython.lib.display import YouTubeVideo\n",
    "vid = YouTubeVideo(\"cGAd0BWlZJw\")\n",
    "display(vid)"
   ]
  },
  {
   "cell_type": "markdown",
   "metadata": {},
   "source": [
    "# Vježbe\n",
    "\n",
    "Sada riješite sljedeće zadatke koji nam služe za ponavljanje gradiva. Ako ne stignete sada, svakako samostalno riješite zadatke do ponedjeljka. Video s rješenjima bit će postavljen u podnedjeljak te možete provjeriti svoja rješenja\n"
   ]
  },
  {
   "cell_type": "markdown",
   "metadata": {},
   "source": [
    "**Zadatak 1**. \n",
    "\n",
    "(a) Izvedite formulu za aproksimaciju $f'(x)$ pomoću vrijednosti funkcije $f$ u točkama $x-h$ i $x+h$ $(h>0), h\\in \\mathbb{R}$. Kojeg je reda točnosti dobivena formula? Objasnite svoju tvrdnju. Pomoću dobivene formule aproksimirajte vrijednost $\\cos 1$ za $h=0.1$\n",
    "(b) Navedite bar 2 tipa pogrešaka koji se javljaju prilikom numeričkog rješavanja problema\n",
    "\n",
    "(c) Radi konačne aritmetike računala, neke algebarske operacije smatramo opasnima. Navedite primjer barem jedne takve operacije. Objasnite svoje tvrdnje.\n",
    "\n",
    "(d) Objasnite što je strojni epsilon.\n",
    "\n",
    "\n",
    "**Zadatak 2**.\n",
    "\n",
    "(a) Je li sljedeća tvrdnja točna ili netočna: Neka je $x\\in \\mathbb{R}^n,\\ A\\in \\mathbb{R}^{n\\times n}$. Tada je rezultat izraza $x^TAx$ realan broj.\n",
    "(b) Navedite definiciju pozitivno definitne matrice. Objasnite jesu li sve pozitivno definitne matrice regularne.\n",
    "\n",
    "(c) Neka je $A\\in \\mathbb{R}^{n\\times n}$ regularna matrica. Pokažite da je $A^TA$ simetrična, pozitivno definitna matrica.\n",
    "\n",
    "\n",
    "**Zadatak 3**.  Odaberite jednu matricu tipa $4\\times 4$ i pokušajte pronaći njezin PLU rastav. \n",
    "\n",
    "**Zadatak 4**. \n",
    "\n",
    "(a) \n",
    "Izvedite kompozitnu pravokutnu formulu te ocijenite pripadnu pogrešku integracije ako je poznato da je pogreška za jednostavnu formulu $\\frac{h^3}{24}f^{''}(\\tau), h=b-a$\n",
    "\n",
    "(b) Pravokutnom, trapeznom i s\n",
    "Simpsonovom formulom izračunajte integral $\\int_1^{2}\\frac{1}{x}\\,dx$. Koja je aproksimacija najtočnija?\n",
    "\n",
    "(c) Koliko je čvorova potrebno uzeti u kompozitnoj pravokutnoj formuli tako da pogreška aproksimacije gornjeg integrala bude manja ili jednaka od $10^{-3}$?\n",
    "\n",
    "\n",
    "**Zadatak 5**.\n",
    "\n",
    "(a) Objasnite prednosti splajn interpolacije\n",
    "\n",
    "\n",
    "(b) Za  zadane podatke $\\{(x_i,y_i), i=0,\\ldots, n\\}$ definirajte prirodni kubni splajn.\n",
    "\n",
    "\n",
    "(c) Napišite definiciju strogo dijagonalne dominantne matrice i pokažite da su takve matrice regularne.\n",
    "\n",
    "(d) Postoje li brojevi $a$  i $b$ tako da je funkcija\n",
    "$$\ts(x) = \\left\\{ \\begin{array}{ll}\n",
    "\t(x-2)^3+a(x-1)^2 , & x \\in [-\\infty,2) \\\\\n",
    "\t(x-2)^3-(x-3)^2, & x \\in [2,3] \\\\ (x-3)^3+b(x-2)^2, & x \\in [3,+\\infty)\\end{array}\n",
    "\t\\right.$$\t\n",
    "kubni splajn.\n"
   ]
  },
  {
   "cell_type": "code",
   "execution_count": null,
   "metadata": {},
   "outputs": [],
   "source": []
  }
 ],
 "metadata": {
  "kernelspec": {
   "display_name": "Python 3",
   "language": "python",
   "name": "python3"
  },
  "language_info": {
   "codemirror_mode": {
    "name": "ipython",
    "version": 3
   },
   "file_extension": ".py",
   "mimetype": "text/x-python",
   "name": "python",
   "nbconvert_exporter": "python",
   "pygments_lexer": "ipython3",
   "version": "3.6.4"
  }
 },
 "nbformat": 4,
 "nbformat_minor": 2
}
